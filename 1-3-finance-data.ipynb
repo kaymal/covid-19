{
 "cells": [
  {
   "cell_type": "markdown",
   "metadata": {},
   "source": [
    "# Get Finance Data"
   ]
  },
  {
   "cell_type": "code",
   "execution_count": 2,
   "metadata": {},
   "outputs": [],
   "source": [
    "import pandas as pd\n",
    "import numpy as np\n",
    "\n",
    "import yfinance as yf"
   ]
  },
  {
   "cell_type": "code",
   "execution_count": 5,
   "metadata": {
    "collapsed": true,
    "jupyter": {
     "outputs_hidden": true
    }
   },
   "outputs": [
    {
     "data": {
      "text/plain": [
       "{'previousClose': 8939.1,\n",
       " 'regularMarketOpen': 8613.35,\n",
       " 'twoHundredDayAverage': 12761.213,\n",
       " 'trailingAnnualDividendYield': None,\n",
       " 'payoutRatio': None,\n",
       " 'volume24Hr': None,\n",
       " 'regularMarketDayHigh': 8670.41,\n",
       " 'navPrice': None,\n",
       " 'averageDailyVolume10Day': 289729557,\n",
       " 'totalAssets': None,\n",
       " 'regularMarketPreviousClose': 8939.1,\n",
       " 'fiftyDayAverage': 12402.502,\n",
       " 'trailingAnnualDividendRate': None,\n",
       " 'open': 8613.35,\n",
       " 'toCurrency': None,\n",
       " 'averageVolume10days': 289729557,\n",
       " 'expireDate': None,\n",
       " 'yield': None,\n",
       " 'algorithm': None,\n",
       " 'dividendRate': None,\n",
       " 'exDividendDate': None,\n",
       " 'beta': None,\n",
       " 'circulatingSupply': None,\n",
       " 'startDate': None,\n",
       " 'regularMarketDayLow': 8400.18,\n",
       " 'priceHint': 2,\n",
       " 'currency': 'EUR',\n",
       " 'regularMarketVolume': 0,\n",
       " 'lastMarket': None,\n",
       " 'maxSupply': None,\n",
       " 'openInterest': None,\n",
       " 'marketCap': None,\n",
       " 'volumeAllCurrencies': None,\n",
       " 'strikePrice': None,\n",
       " 'averageVolume': 122471108,\n",
       " 'priceToSalesTrailing12Months': None,\n",
       " 'dayLow': 8400.18,\n",
       " 'ask': 0,\n",
       " 'ytdReturn': None,\n",
       " 'askSize': 0,\n",
       " 'volume': 0,\n",
       " 'fiftyTwoWeekHigh': 13795.24,\n",
       " 'forwardPE': None,\n",
       " 'maxAge': 1,\n",
       " 'fromCurrency': None,\n",
       " 'fiveYearAvgDividendYield': None,\n",
       " 'fiftyTwoWeekLow': 8255.65,\n",
       " 'bid': 0,\n",
       " 'tradeable': False,\n",
       " 'dividendYield': None,\n",
       " 'bidSize': 0,\n",
       " 'dayHigh': 8670.41,\n",
       " 'exchange': 'GER',\n",
       " 'shortName': 'DAX PERFORMANCE-INDEX',\n",
       " 'exchangeTimezoneName': 'Europe/Berlin',\n",
       " 'exchangeTimezoneShortName': 'CET',\n",
       " 'isEsgPopulated': False,\n",
       " 'gmtOffSetMilliseconds': '3600000',\n",
       " 'quoteType': 'INDEX',\n",
       " 'symbol': '^GDAXI',\n",
       " 'messageBoardId': 'finmb_INDEXGDAXI',\n",
       " 'market': 'de_market',\n",
       " 'regularMarketPrice': 8613.35,\n",
       " 'logo_url': ''}"
      ]
     },
     "execution_count": 5,
     "metadata": {},
     "output_type": "execute_result"
    }
   ],
   "source": [
    "dax = yf.Ticker(\"^GDAXI\")\n",
    "\n",
    "# get stock info\n",
    "dax.info"
   ]
  },
  {
   "cell_type": "code",
   "execution_count": null,
   "metadata": {},
   "outputs": [],
   "source": [
    "dat"
   ]
  },
  {
   "cell_type": "code",
   "execution_count": 8,
   "metadata": {},
   "outputs": [],
   "source": [
    "df = dax.history(start=\"2020-01-01\")"
   ]
  },
  {
   "cell_type": "code",
   "execution_count": 9,
   "metadata": {},
   "outputs": [
    {
     "data": {
      "text/plain": [
       "pandas.core.frame.DataFrame"
      ]
     },
     "execution_count": 9,
     "metadata": {},
     "output_type": "execute_result"
    }
   ],
   "source": [
    "type(df)"
   ]
  },
  {
   "cell_type": "code",
   "execution_count": 10,
   "metadata": {},
   "outputs": [
    {
     "data": {
      "text/html": [
       "<div>\n",
       "<style scoped>\n",
       "    .dataframe tbody tr th:only-of-type {\n",
       "        vertical-align: middle;\n",
       "    }\n",
       "\n",
       "    .dataframe tbody tr th {\n",
       "        vertical-align: top;\n",
       "    }\n",
       "\n",
       "    .dataframe thead th {\n",
       "        text-align: right;\n",
       "    }\n",
       "</style>\n",
       "<table border=\"1\" class=\"dataframe\">\n",
       "  <thead>\n",
       "    <tr style=\"text-align: right;\">\n",
       "      <th></th>\n",
       "      <th>Open</th>\n",
       "      <th>High</th>\n",
       "      <th>Low</th>\n",
       "      <th>Close</th>\n",
       "      <th>Volume</th>\n",
       "      <th>Dividends</th>\n",
       "      <th>Stock Splits</th>\n",
       "    </tr>\n",
       "    <tr>\n",
       "      <th>Date</th>\n",
       "      <th></th>\n",
       "      <th></th>\n",
       "      <th></th>\n",
       "      <th></th>\n",
       "      <th></th>\n",
       "      <th></th>\n",
       "      <th></th>\n",
       "    </tr>\n",
       "  </thead>\n",
       "  <tbody>\n",
       "    <tr>\n",
       "      <th>2020-01-02</th>\n",
       "      <td>13233.71</td>\n",
       "      <td>13425.03</td>\n",
       "      <td>13225.16</td>\n",
       "      <td>13385.93</td>\n",
       "      <td>75341400</td>\n",
       "      <td>0</td>\n",
       "      <td>0</td>\n",
       "    </tr>\n",
       "    <tr>\n",
       "      <th>2020-01-03</th>\n",
       "      <td>13266.39</td>\n",
       "      <td>13282.74</td>\n",
       "      <td>13120.72</td>\n",
       "      <td>13219.14</td>\n",
       "      <td>80793400</td>\n",
       "      <td>0</td>\n",
       "      <td>0</td>\n",
       "    </tr>\n",
       "    <tr>\n",
       "      <th>2020-01-06</th>\n",
       "      <td>13085.49</td>\n",
       "      <td>13143.11</td>\n",
       "      <td>12948.17</td>\n",
       "      <td>13126.99</td>\n",
       "      <td>71778600</td>\n",
       "      <td>0</td>\n",
       "      <td>0</td>\n",
       "    </tr>\n",
       "    <tr>\n",
       "      <th>2020-01-07</th>\n",
       "      <td>13199.59</td>\n",
       "      <td>13283.88</td>\n",
       "      <td>13166.40</td>\n",
       "      <td>13226.83</td>\n",
       "      <td>78282300</td>\n",
       "      <td>0</td>\n",
       "      <td>0</td>\n",
       "    </tr>\n",
       "    <tr>\n",
       "      <th>2020-01-08</th>\n",
       "      <td>13140.49</td>\n",
       "      <td>13334.04</td>\n",
       "      <td>13106.27</td>\n",
       "      <td>13320.18</td>\n",
       "      <td>88178800</td>\n",
       "      <td>0</td>\n",
       "      <td>0</td>\n",
       "    </tr>\n",
       "  </tbody>\n",
       "</table>\n",
       "</div>"
      ],
      "text/plain": [
       "                Open      High       Low     Close    Volume  Dividends  \\\n",
       "Date                                                                      \n",
       "2020-01-02  13233.71  13425.03  13225.16  13385.93  75341400          0   \n",
       "2020-01-03  13266.39  13282.74  13120.72  13219.14  80793400          0   \n",
       "2020-01-06  13085.49  13143.11  12948.17  13126.99  71778600          0   \n",
       "2020-01-07  13199.59  13283.88  13166.40  13226.83  78282300          0   \n",
       "2020-01-08  13140.49  13334.04  13106.27  13320.18  88178800          0   \n",
       "\n",
       "            Stock Splits  \n",
       "Date                      \n",
       "2020-01-02             0  \n",
       "2020-01-03             0  \n",
       "2020-01-06             0  \n",
       "2020-01-07             0  \n",
       "2020-01-08             0  "
      ]
     },
     "execution_count": 10,
     "metadata": {},
     "output_type": "execute_result"
    }
   ],
   "source": [
    "df.head()"
   ]
  },
  {
   "cell_type": "code",
   "execution_count": null,
   "metadata": {},
   "outputs": [],
   "source": []
  }
 ],
 "metadata": {
  "kernelspec": {
   "display_name": "Python 3",
   "language": "python",
   "name": "python3"
  },
  "language_info": {
   "codemirror_mode": {
    "name": "ipython",
    "version": 3
   },
   "file_extension": ".py",
   "mimetype": "text/x-python",
   "name": "python",
   "nbconvert_exporter": "python",
   "pygments_lexer": "ipython3",
   "version": "3.7.3"
  }
 },
 "nbformat": 4,
 "nbformat_minor": 4
}
